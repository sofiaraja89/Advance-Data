{
 "cells": [
  {
   "cell_type": "code",
   "execution_count": null,
   "id": "0bb2fa43",
   "metadata": {},
   "outputs": [],
   "source": [
    "#Data Types \n",
    "#String \n",
    "#does_not_matter = "
   ]
  },
  {
   "cell_type": "code",
   "execution_count": null,
   "id": "a51b3287",
   "metadata": {},
   "outputs": [],
   "source": [
    "#Control Flow\n",
    "#Conditional Evaluation \n",
    "\n"
   ]
  },
  {
   "cell_type": "code",
   "execution_count": 23,
   "id": "11069f2b",
   "metadata": {},
   "outputs": [],
   "source": [
    "#Function\n",
    "#Define functions\n",
    "#Pieces of code that carry out some task for our program\n",
    "#Define a function = the place holder are parameters \n",
    "#def my_function(x, y):\n",
    "    #print(x + y )\n",
    "    #return x + y\n",
    "def my_function(y):   \n",
    "    if y > 3: \n",
    "        print(\"Is the function call over?\")\n",
    "        return 52 \n",
    "    elif y<3: \n",
    "        return 45\n",
    "    else: \n",
    "        return 77"
   ]
  },
  {
   "cell_type": "code",
   "execution_count": 24,
   "id": "b85a8b22",
   "metadata": {},
   "outputs": [
    {
     "data": {
      "text/plain": [
       "True"
      ]
     },
     "execution_count": 24,
     "metadata": {},
     "output_type": "execute_result"
    }
   ],
   "source": [
    "#Call a function \n",
    "#my_function(4,9)\n",
    "#13 == my_function(4,9)\n",
    "#my_function(52) \n",
    "77 == my_function(3)"
   ]
  },
  {
   "cell_type": "code",
   "execution_count": null,
   "id": "f77586f9",
   "metadata": {},
   "outputs": [],
   "source": [
    "#Return is = to the function \n",
    "#Return ends the function call"
   ]
  },
  {
   "cell_type": "code",
   "execution_count": 8,
   "id": "b1873244",
   "metadata": {},
   "outputs": [],
   "source": [
    "#Variable Setting \n",
    "x = 5"
   ]
  },
  {
   "cell_type": "code",
   "execution_count": 43,
   "id": "c4c45515",
   "metadata": {},
   "outputs": [],
   "source": [
    "#Object Oriented Programming \n",
    "\n",
    "class Person:\n",
    "    #Contstutor tells us how to construct(instantiate) an Object \n",
    "    def __init__(self, address, hair_color):#dundar, double underscore method \n",
    "        #attributes,fields, variables\n",
    "        self.address = address\n",
    "        self.hair_color = hair_color \n",
    "        \n",
    "        #methods = function \n",
    "    def change_hair_color(self, other_hair_color):\n",
    "        self.other_hair_color = other_hair_color \n",
    "            \n",
    "        "
   ]
  },
  {
   "cell_type": "code",
   "execution_count": 50,
   "id": "6109c75b",
   "metadata": {},
   "outputs": [],
   "source": [
    "#instantiate object \n",
    "person_1 = Person(\"5555 maple dr.\", \"Purple\")"
   ]
  },
  {
   "cell_type": "code",
   "execution_count": 51,
   "id": "4933375e",
   "metadata": {},
   "outputs": [
    {
     "data": {
      "text/plain": [
       "'Purple'"
      ]
     },
     "execution_count": 51,
     "metadata": {},
     "output_type": "execute_result"
    }
   ],
   "source": [
    "person_1.hair_color"
   ]
  },
  {
   "cell_type": "code",
   "execution_count": 52,
   "id": "462f2732",
   "metadata": {},
   "outputs": [],
   "source": [
    "person_1.change_hair_color(\"Black\")"
   ]
  },
  {
   "cell_type": "code",
   "execution_count": 53,
   "id": "f790bff9",
   "metadata": {},
   "outputs": [
    {
     "data": {
      "text/plain": [
       "'Purple'"
      ]
     },
     "execution_count": 53,
     "metadata": {},
     "output_type": "execute_result"
    }
   ],
   "source": [
    "person_1.hair_color"
   ]
  },
  {
   "cell_type": "code",
   "execution_count": 49,
   "id": "5c5440e1",
   "metadata": {},
   "outputs": [
    {
     "ename": "SyntaxError",
     "evalue": "invalid syntax (3169206297.py, line 3)",
     "output_type": "error",
     "traceback": [
      "\u001b[1;36m  Input \u001b[1;32mIn [49]\u001b[1;36m\u001b[0m\n\u001b[1;33m    def__init__(self, address, hair_color:\u001b[0m\n\u001b[1;37m                                         ^\u001b[0m\n\u001b[1;31mSyntaxError\u001b[0m\u001b[1;31m:\u001b[0m invalid syntax\n"
     ]
    }
   ],
   "source": [
    "#inheirtance \n",
    "class Manager(Person):\n",
    "    def__init__(self, address, hair_color):\n",
    "    super().__init__(address, hair_color)"
   ]
  },
  {
   "cell_type": "code",
   "execution_count": null,
   "id": "dfa9d603",
   "metadata": {},
   "outputs": [],
   "source": [
    "manager_1 = Manager(\"444 blue dr\", \"red\")\n",
    "manager_1.hair_color "
   ]
  },
  {
   "cell_type": "code",
   "execution_count": null,
   "id": "1af004a7",
   "metadata": {},
   "outputs": [],
   "source": [
    "#numpy.org"
   ]
  }
 ],
 "metadata": {
  "kernelspec": {
   "display_name": "Python 3 (ipykernel)",
   "language": "python",
   "name": "python3"
  },
  "language_info": {
   "codemirror_mode": {
    "name": "ipython",
    "version": 3
   },
   "file_extension": ".py",
   "mimetype": "text/x-python",
   "name": "python",
   "nbconvert_exporter": "python",
   "pygments_lexer": "ipython3",
   "version": "3.9.12"
  }
 },
 "nbformat": 4,
 "nbformat_minor": 5
}
